{
 "cells": [
  {
   "cell_type": "markdown",
   "metadata": {},
   "source": [
    "# Caracterization of the stimulation artefact"
   ]
  },
  {
   "cell_type": "code",
   "execution_count": 13,
   "metadata": {},
   "outputs": [],
   "source": [
    "%matplotlib inline\n",
    "import mne\n",
    "import pandas as pd\n",
    "import numpy as np\n",
    "import matplotlib.pyplot as plt\n",
    "import sys\n",
    "import seaborn as sns\n",
    "sys.path.append('../stimic_main/')\n",
    "import utils_stimic\n",
    "import utils_eeg_cleaning\n",
    "from stim_analysis_fun import *\n",
    "sns.set()\n",
    "sns.set_context('paper')"
   ]
  },
  {
   "cell_type": "markdown",
   "metadata": {},
   "source": [
    "### Set the path of the epoch and stim event list :"
   ]
  },
  {
   "cell_type": "code",
   "execution_count": 7,
   "metadata": {},
   "outputs": [],
   "source": [
    "stim_epoch_path = r'C:\\\\Users\\\\deudon\\\\Desktop\\\\Stimic\\\\_Data\\\\STIMS\\\\P53_CD25\\\\P53_CD25_stim_mne_epoch-resync-epo.fif'\n",
    "stim_spreadsheet_path = r'C:\\Users\\deudon\\Desktop\\Stimic\\_Data\\STIMS\\P53_CD25\\p53_CD25_stimulations_all.xlsx'"
   ]
  },
  {
   "cell_type": "markdown",
   "metadata": {},
   "source": [
    "Read mne epoch structure : "
   ]
  },
  {
   "cell_type": "code",
   "execution_count": 11,
   "metadata": {},
   "outputs": [
    {
     "name": "stdout",
     "output_type": "stream",
     "text": [
      "Reading C:\\\\Users\\\\deudon\\\\Desktop\\\\Stimic\\\\_Data\\\\STIMS\\\\P53_CD25\\\\P53_CD25_stim_mne_epoch-resync-epo.fif ...\n",
      "Isotrak not found\n",
      "    Found the data of interest:\n",
      "        t =   -5000.00 ...   24998.05 ms\n",
      "        0 CTF compensation matrices available\n",
      "182 matching events found\n",
      "182 matching events found\n",
      "0 projection items activated\n",
      "<EpochsFIF  |  n_events : 182 (all good), tmin : -5.0 (s), tmax : 24.998046875 (s), baseline : None, ~2.44 GB, data loaded>\n"
     ]
    }
   ],
   "source": [
    "stim_epoch = mne.read_epochs(stim_epoch_path)\n",
    "print(stim_epoch)"
   ]
  },
  {
   "cell_type": "markdown",
   "metadata": {},
   "source": [
    "Load stim spreadsheet : "
   ]
  },
  {
   "cell_type": "code",
   "execution_count": 12,
   "metadata": {},
   "outputs": [
    {
     "data": {
      "text/html": [
       "<div>\n",
       "<style scoped>\n",
       "    .dataframe tbody tr th:only-of-type {\n",
       "        vertical-align: middle;\n",
       "    }\n",
       "\n",
       "    .dataframe tbody tr th {\n",
       "        vertical-align: top;\n",
       "    }\n",
       "\n",
       "    .dataframe thead th {\n",
       "        text-align: right;\n",
       "    }\n",
       "</style>\n",
       "<table border=\"1\" class=\"dataframe\">\n",
       "  <thead>\n",
       "    <tr style=\"text-align: right;\">\n",
       "      <th></th>\n",
       "      <th>ID</th>\n",
       "      <th>file</th>\n",
       "      <th>type</th>\n",
       "      <th>time</th>\n",
       "      <th>channelind</th>\n",
       "      <th>channelname</th>\n",
       "      <th>freq</th>\n",
       "      <th>intensity</th>\n",
       "      <th>duration</th>\n",
       "      <th>effect</th>\n",
       "      <th>channelname_bipolar</th>\n",
       "      <th>time-micro</th>\n",
       "      <th>channelname-micro</th>\n",
       "      <th>channelind-micro</th>\n",
       "      <th>filepath-micro</th>\n",
       "    </tr>\n",
       "  </thead>\n",
       "  <tbody>\n",
       "    <tr>\n",
       "      <th>0</th>\n",
       "      <td>P53_CD25</td>\n",
       "      <td>CD25_stim1_clean_clean_raw</td>\n",
       "      <td>Stim 1 Hz</td>\n",
       "      <td>174.4736</td>\n",
       "      <td>96</td>\n",
       "      <td>EEG GC1</td>\n",
       "      <td>1</td>\n",
       "      <td>1.5</td>\n",
       "      <td>10</td>\n",
       "      <td>RAS</td>\n",
       "      <td>EEG GC1-EEG GC2</td>\n",
       "      <td>217.1523</td>\n",
       "      <td>[]</td>\n",
       "      <td>[]</td>\n",
       "      <td>C:\\Users\\deudon\\Desktop\\Stimic\\_Data\\STIMS\\P53...</td>\n",
       "    </tr>\n",
       "    <tr>\n",
       "      <th>1</th>\n",
       "      <td>P53_CD25</td>\n",
       "      <td>CD25_stim1_clean_clean_raw</td>\n",
       "      <td>Stim 1 Hz</td>\n",
       "      <td>174.4834</td>\n",
       "      <td>97</td>\n",
       "      <td>EEG GC2</td>\n",
       "      <td>1</td>\n",
       "      <td>1.5</td>\n",
       "      <td>10</td>\n",
       "      <td>RAS</td>\n",
       "      <td>EEG GC1-EEG GC2</td>\n",
       "      <td>217.1621</td>\n",
       "      <td>[]</td>\n",
       "      <td>[]</td>\n",
       "      <td>C:\\Users\\deudon\\Desktop\\Stimic\\_Data\\STIMS\\P53...</td>\n",
       "    </tr>\n",
       "    <tr>\n",
       "      <th>2</th>\n",
       "      <td>P53_CD25</td>\n",
       "      <td>CD25_stim1_clean_clean_raw</td>\n",
       "      <td>Stim 1 Hz</td>\n",
       "      <td>234.5498</td>\n",
       "      <td>97</td>\n",
       "      <td>EEG GC2</td>\n",
       "      <td>1</td>\n",
       "      <td>2.0</td>\n",
       "      <td>10</td>\n",
       "      <td>RAS</td>\n",
       "      <td>EEG GC2-EEG GC3</td>\n",
       "      <td>277.2285</td>\n",
       "      <td>[]</td>\n",
       "      <td>[]</td>\n",
       "      <td>C:\\Users\\deudon\\Desktop\\Stimic\\_Data\\STIMS\\P53...</td>\n",
       "    </tr>\n",
       "    <tr>\n",
       "      <th>3</th>\n",
       "      <td>P53_CD25</td>\n",
       "      <td>CD25_stim1_clean_clean_raw</td>\n",
       "      <td>Stim 1 Hz</td>\n",
       "      <td>234.5566</td>\n",
       "      <td>98</td>\n",
       "      <td>EEG GC3</td>\n",
       "      <td>1</td>\n",
       "      <td>2.0</td>\n",
       "      <td>10</td>\n",
       "      <td>RAS</td>\n",
       "      <td>EEG GC2-EEG GC3</td>\n",
       "      <td>277.2353</td>\n",
       "      <td>[]</td>\n",
       "      <td>[]</td>\n",
       "      <td>C:\\Users\\deudon\\Desktop\\Stimic\\_Data\\STIMS\\P53...</td>\n",
       "    </tr>\n",
       "    <tr>\n",
       "      <th>4</th>\n",
       "      <td>P53_CD25</td>\n",
       "      <td>CD25_stim1_clean_clean_raw</td>\n",
       "      <td>Stim 1 Hz</td>\n",
       "      <td>274.1533</td>\n",
       "      <td>98</td>\n",
       "      <td>EEG GC3</td>\n",
       "      <td>1</td>\n",
       "      <td>3.0</td>\n",
       "      <td>20</td>\n",
       "      <td>RAS</td>\n",
       "      <td>EEG GC3-EEG GC4</td>\n",
       "      <td>316.8320</td>\n",
       "      <td>[]</td>\n",
       "      <td>[]</td>\n",
       "      <td>C:\\Users\\deudon\\Desktop\\Stimic\\_Data\\STIMS\\P53...</td>\n",
       "    </tr>\n",
       "  </tbody>\n",
       "</table>\n",
       "</div>"
      ],
      "text/plain": [
       "         ID                        file       type      time  channelind  \\\n",
       "0  P53_CD25  CD25_stim1_clean_clean_raw  Stim 1 Hz  174.4736          96   \n",
       "1  P53_CD25  CD25_stim1_clean_clean_raw  Stim 1 Hz  174.4834          97   \n",
       "2  P53_CD25  CD25_stim1_clean_clean_raw  Stim 1 Hz  234.5498          97   \n",
       "3  P53_CD25  CD25_stim1_clean_clean_raw  Stim 1 Hz  234.5566          98   \n",
       "4  P53_CD25  CD25_stim1_clean_clean_raw  Stim 1 Hz  274.1533          98   \n",
       "\n",
       "  channelname  freq  intensity  duration effect channelname_bipolar  \\\n",
       "0     EEG GC1     1        1.5        10    RAS     EEG GC1-EEG GC2   \n",
       "1     EEG GC2     1        1.5        10    RAS     EEG GC1-EEG GC2   \n",
       "2     EEG GC2     1        2.0        10    RAS     EEG GC2-EEG GC3   \n",
       "3     EEG GC3     1        2.0        10    RAS     EEG GC2-EEG GC3   \n",
       "4     EEG GC3     1        3.0        20    RAS     EEG GC3-EEG GC4   \n",
       "\n",
       "   time-micro channelname-micro channelind-micro  \\\n",
       "0    217.1523                []               []   \n",
       "1    217.1621                []               []   \n",
       "2    277.2285                []               []   \n",
       "3    277.2353                []               []   \n",
       "4    316.8320                []               []   \n",
       "\n",
       "                                      filepath-micro  \n",
       "0  C:\\Users\\deudon\\Desktop\\Stimic\\_Data\\STIMS\\P53...  \n",
       "1  C:\\Users\\deudon\\Desktop\\Stimic\\_Data\\STIMS\\P53...  \n",
       "2  C:\\Users\\deudon\\Desktop\\Stimic\\_Data\\STIMS\\P53...  \n",
       "3  C:\\Users\\deudon\\Desktop\\Stimic\\_Data\\STIMS\\P53...  \n",
       "4  C:\\Users\\deudon\\Desktop\\Stimic\\_Data\\STIMS\\P53...  "
      ]
     },
     "execution_count": 12,
     "metadata": {},
     "output_type": "execute_result"
    }
   ],
   "source": [
    "df = pd.read_excel(stim_spreadsheet_path)\n",
    "df.head()"
   ]
  },
  {
   "cell_type": "code",
   "execution_count": null,
   "metadata": {},
   "outputs": [],
   "source": []
  }
 ],
 "metadata": {
  "kernelspec": {
   "display_name": "Python 3",
   "language": "python",
   "name": "python3"
  },
  "language_info": {
   "codemirror_mode": {
    "name": "ipython",
    "version": 3
   },
   "file_extension": ".py",
   "mimetype": "text/x-python",
   "name": "python",
   "nbconvert_exporter": "python",
   "pygments_lexer": "ipython3",
   "version": "3.6.5"
  }
 },
 "nbformat": 4,
 "nbformat_minor": 2
}
